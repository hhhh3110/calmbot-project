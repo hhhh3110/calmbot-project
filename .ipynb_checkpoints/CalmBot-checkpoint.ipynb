{
 "cells": [
  {
   "cell_type": "code",
   "execution_count": 1,
   "metadata": {
    "colab": {
     "base_uri": "https://localhost:8080/"
    },
    "id": "advvG3oOy0Ve",
    "outputId": "b47f8f41-ab6c-47ca-b1e1-03cd72ba37af"
   },
   "outputs": [
    {
     "name": "stdout",
     "output_type": "stream",
     "text": [
      "\u001b[2K   \u001b[90m━━━━━━━━━━━━━━━━━━━━━━━━━━━━━━━━━━━━━━━━\u001b[0m \u001b[32m363.4/363.4 MB\u001b[0m \u001b[31m4.4 MB/s\u001b[0m eta \u001b[36m0:00:00\u001b[0m\n",
      "\u001b[2K   \u001b[90m━━━━━━━━━━━━━━━━━━━━━━━━━━━━━━━━━━━━━━━━\u001b[0m \u001b[32m13.8/13.8 MB\u001b[0m \u001b[31m38.5 MB/s\u001b[0m eta \u001b[36m0:00:00\u001b[0m\n",
      "\u001b[2K   \u001b[90m━━━━━━━━━━━━━━━━━━━━━━━━━━━━━━━━━━━━━━━━\u001b[0m \u001b[32m24.6/24.6 MB\u001b[0m \u001b[31m35.5 MB/s\u001b[0m eta \u001b[36m0:00:00\u001b[0m\n",
      "\u001b[2K   \u001b[90m━━━━━━━━━━━━━━━━━━━━━━━━━━━━━━━━━━━━━━━━\u001b[0m \u001b[32m883.7/883.7 kB\u001b[0m \u001b[31m15.0 MB/s\u001b[0m eta \u001b[36m0:00:00\u001b[0m\n",
      "\u001b[2K   \u001b[90m━━━━━━━━━━━━━━━━━━━━━━━━━━━━━━━━━━━━━━━━\u001b[0m \u001b[32m664.8/664.8 MB\u001b[0m \u001b[31m1.1 MB/s\u001b[0m eta \u001b[36m0:00:00\u001b[0m\n",
      "\u001b[2K   \u001b[90m━━━━━━━━━━━━━━━━━━━━━━━━━━━━━━━━━━━━━━━━\u001b[0m \u001b[32m211.5/211.5 MB\u001b[0m \u001b[31m6.5 MB/s\u001b[0m eta \u001b[36m0:00:00\u001b[0m\n",
      "\u001b[2K   \u001b[90m━━━━━━━━━━━━━━━━━━━━━━━━━━━━━━━━━━━━━━━━\u001b[0m \u001b[32m56.3/56.3 MB\u001b[0m \u001b[31m11.0 MB/s\u001b[0m eta \u001b[36m0:00:00\u001b[0m\n",
      "\u001b[2K   \u001b[90m━━━━━━━━━━━━━━━━━━━━━━━━━━━━━━━━━━━━━━━━\u001b[0m \u001b[32m127.9/127.9 MB\u001b[0m \u001b[31m7.9 MB/s\u001b[0m eta \u001b[36m0:00:00\u001b[0m\n",
      "\u001b[2K   \u001b[90m━━━━━━━━━━━━━━━━━━━━━━━━━━━━━━━━━━━━━━━━\u001b[0m \u001b[32m207.5/207.5 MB\u001b[0m \u001b[31m5.4 MB/s\u001b[0m eta \u001b[36m0:00:00\u001b[0m\n",
      "\u001b[2K   \u001b[90m━━━━━━━━━━━━━━━━━━━━━━━━━━━━━━━━━━━━━━━━\u001b[0m \u001b[32m21.1/21.1 MB\u001b[0m \u001b[31m34.2 MB/s\u001b[0m eta \u001b[36m0:00:00\u001b[0m\n",
      "\u001b[?25h"
     ]
    }
   ],
   "source": [
    "# STEP 0: Install dependencies\n",
    "!pip install transformers accelerate -q"
   ]
  },
  {
   "cell_type": "code",
   "execution_count": 2,
   "metadata": {
    "id": "jr-D0deRy-PQ"
   },
   "outputs": [],
   "source": [
    "# STEP 1: Import required packages\n",
    "from transformers import pipeline\n",
    "import torch"
   ]
  },
  {
   "cell_type": "code",
   "execution_count": 3,
   "metadata": {
    "colab": {
     "base_uri": "https://localhost:8080/",
     "height": 824,
     "referenced_widgets": [
      "d24fa093f9534c6a9b9cb3666202ac7c",
      "c978babe5a7c41a887e2c5da4a219c55",
      "c03803b2285849c6948bec85f911ff13",
      "aca1814a8978412da35454ed2a2bc2e0",
      "f3069d8b7dcf4164acfae8931f4f85cb",
      "71bade4d1ac442a69eebefd1f927664d",
      "6c6b7559d9354010a351e9c5df231cc9",
      "386abcf0c20a41e4a7ca3ba4f44e53f7",
      "317ed545572a40969461b42e7a44bd38",
      "e057cb48537748a284f4573beac0455a",
      "7b215fba382c4c0387ea01da90a626d2",
      "d8add0fc2dab40508349e61c32f32bbb",
      "8abcbf30ebc24ffc859a25b813114e6b",
      "a39301359aaa4b5dba9fa621028b4f07",
      "53cbd098a97d4c76a2805b9ab60761fa",
      "cdfb4651608f4160be6d5d8690c3a272",
      "3dc47150c0ae4a588d1c9be47ff40a5e",
      "3dcdd16f5f094636b65f33ff9ba8a220",
      "9587dc0d89bf4ade96d6208a0d013641",
      "3b7cde25c93941c6968c84aea405f6b6",
      "ad3f1758c40c4cc69cb2d50ed645fe33",
      "998f8697593b4e00bff539db4fda240b",
      "81d4bea92ab04d66ad624414fa3fa60e",
      "5ee37f5ec6ad4083af70cb9df833a280",
      "47ed106836c641fc9fd8d08461012075",
      "eec1a14eb86940d1a33a1f44c37f0369",
      "fbcaeaba8d614a8c983ae1760fb45c55",
      "3e01c9156c0b46a3b4c705da48c91098",
      "f91bcd7d68254eb3966dcbd5efaf7359",
      "2af0fe94bd774e3ba539767370bb7f34",
      "80002cf6df9f4cc7bfadc9a299e983f1",
      "cf22692729754deea88d6a709105ec7c",
      "882cf241a58a4e628bb098e3cf4641d5",
      "c483aee857ae4421809c5ee43e5bdd53",
      "9a94d81c624049a9a7bf4da2665a2ea0",
      "d269339d25cb4d51957c07645ed7bf92",
      "bd4d7a29855f4b3e87f4be6271056cb4",
      "2fda788d68e64b189a15e658431f0901",
      "1eef0ed956cc4b22b328b37ecffe927d",
      "174a76fbed624f03864ad58573c9c1f9",
      "8e1a0bf3faa84855968a8219b6b0829a",
      "44667ea5363c41c1b940be34c17e1f24",
      "6844ea7342654c6ebba2098819d32fcf",
      "c412902fdbe64a649edfb8722741f047",
      "ff1b6a9f904a4241ba324a61cb278ca2",
      "b1eca8db89a54905af818916ded862bd",
      "938b9110b73948c1bb556b8458542c3e",
      "77cd6601da6a40aa860c95c9c55f1a8c",
      "894f8bccf8bf40e9b9f3c3b5a02cdf43",
      "af9ea0cd653a4c4ebfeb22781edf6ccd",
      "470afeb91975468d81f79163f2df01d5",
      "ae0a5839f87d423c8eed208b4aa06951",
      "5dd42210ec2447d48a5893f943959951",
      "dd794c2d4646472994d8babea78e7096",
      "155dfac4f78843cb8625df59465b7898",
      "80fe8920142e4c4e84758931142cbaf2",
      "8a63deba568044689a2ef3cd8420e708",
      "7a5be96972f24a8f9e8912534db1ba20",
      "8fe941140a964d3c8d668145e4ec6dce",
      "bdcd72d2aa5f4132961c4c4e8b3f918c",
      "8cf11a68382f40d89d2defd10aff7757",
      "979349484514471897b906409f9dd8d4",
      "4aa3fc4cc3d64ee5b5b6de4855e25715",
      "9b2d96c5e46145efb82bdd5f5e6b8a6c",
      "2bd3c96b0efc46e5a09788c9b29f3a63",
      "124835eee9ef4ed78575274a877b92ea",
      "1e114b4e3ad544868af9763bc8e3a025",
      "88e108fc25714872bfea7188b93b4b34",
      "37dab219ecec4ed1870e65b6e583da63",
      "2548625599554c0b921bb6a66d0a7541",
      "79492e44908c48a08ce1053f53ffd2bf",
      "d75d5c18ea864c048fd1e7b50902c40a",
      "73c53c48930e48d8bcec8d2f653dc4f8",
      "c9dc94db589440eab676dd1edb107c8a",
      "9c0ff7a15b8b423082570699ccf22889",
      "7317e83a993641da9109a44e7f186652",
      "1871a1fcf14741e69fbf9b65c67353a7",
      "78ae3223943e4bf0a4b591f2d18cc347",
      "832d2d4219454cfe90c3f6695a90b705",
      "4737159f673543eeab076c44205bf44d",
      "bfd70992e5ef4b22b66e79898974d613",
      "50a80464822b499cbc811daec71633e4",
      "2099a8a2398249bcae7e3e4d886d049c",
      "b4d8409ddca14af2b958c1fc9d99e378",
      "44308debc0ae423d95953544c28a76d3",
      "a127a19be9064bd0ad09fdee14219f9c",
      "50e3a436fc2944519b392288b77b7209",
      "55ad960041a64f11a1dcb56ed8334f66",
      "d0b6f96a96d54a62b52c4e3ee4efdeb9",
      "3d106db6887d426195b121fb70e0814e",
      "3d87aa40e49a40548ce4f8240cee92e2",
      "c744707e54354caaabb5e26a8075a1e2",
      "12a7df4fe88b4213aa0bd709bf6f5aef",
      "6282e55c04b144db91d28f007c4776db",
      "5823d6f298484447b34d87db25501ee2",
      "5c5e9fe1ae494d938cd7b8eb1ef60a2e",
      "4f7fbba0ab7149439196597778caa823",
      "76bcb75f5ffc4a9cb9c137f5379b93dc",
      "86b57940728c4f80a72af088e087b13e",
      "ca4ded2fa3c147f5915c62669a8f98be",
      "796077d856bd4f8c9a2e5aafdea3794b",
      "d9cace0620164425b9a6701865e1b451",
      "a8b20129ba1a437c83976ce386b848e0",
      "c8bba5cd45b947d08b02bd4231cdf50b",
      "81b03001202445ce824708d6a7ba19b5",
      "bb5e57d7807f49678fa1636307be8270",
      "9f82d024cd1747af80bd76889468964f",
      "df356f2379f14a358fab360ce7caf997",
      "4e25583d51d64c859f8b61c58228188c",
      "026ec8513c1d408e81b58de670126bba",
      "cf75240f072547c0a5c40a46727a04d1",
      "d86cb46cb7284e2b8d3f1a19d35cc2f3",
      "042f0c3ad3ea48f4a194ba94561c6311",
      "5c685efbfbf74cab9fc32a1c29b8af52",
      "d6def12409b84cfdb3d05d976f0dbc9f",
      "2acb8ca9839f4cb5ba7bcb0e838c7ed6",
      "9e0df29236a74e4b8f05b072c5ec5ef8",
      "496053d588b54cedba9fcd0e9ee73141",
      "e9fd8319815243f5923b1b8dc1d625e7",
      "5a9c6961cf884e19baa13c9c33429919",
      "15023a8f3b7146c49a7e7b0be77fbce3",
      "dfdf15a4c1ad4aaf84d62cb4a1ffd3fd",
      "dfd15e1760ff4201a102524825c7c978",
      "2882510f7cef425b979bef7b1129af7e",
      "ce8da3f8a86a4033b8885bfd42467194",
      "20dc0746aba34325ab13bf196c8a7507",
      "2cea0fd811da4dda845c5342e38f00d1",
      "ae1a2c78a6e04374924b69ac7c3692cb",
      "0c90137b986f439cab0408c39a5199cf",
      "7d67e7b4d4de41c08d897b3606577f63",
      "782c5244c0d342d598b5226936690fdd",
      "13357d22800f4bf4985feaffc3cf4070",
      "ea53ff508dd94c7591d8b0e832b2c0f0",
      "22673fcc2eef4d07963870b05462f58e",
      "fc930f345b5849bea9a5e69ba8a31198",
      "95afb0159025406db0fa18bf7a6c04dc",
      "1790244653e44b0ab9c0597131ee66c6",
      "cc3758950ea240578cee000ea88c4fc0",
      "a6824e666fd44f269739d1c9a8ded011",
      "557aa79ad017487980d0fbe72e09cb28",
      "93757b113cb04aeb998a378300949834",
      "aad8b2e5711e465fa14cb9c4da580494",
      "caadc8421620486da0a424ce27168554",
      "ebb8ca330fda40bdaee6193173ce0b30",
      "627017da11c2414d82e7aa0de8e7015b",
      "f2262295e5a54f42ba9d703bf605ae38",
      "67969a484b9347079a58f9cf0f070862",
      "778918495b3c4c4495f0fb245dfcb406",
      "46ea072ff6504ec2abab991b86fd6479",
      "30e05a80dd324c53a1f203d632deb5d6",
      "f32cec3e4fb34d7fa157e8172e192a25",
      "a2a76dbe31bb400eae60d5d67732e482",
      "0c5df0a3dd7448c6b3e36f821b3d326b",
      "dcb7307fdc134e9591add7be8c943eac",
      "7e73fe372807472ca892980f7edb47a6",
      "f0e1d9a6eeb948f5a78bd7470f8b5cfe",
      "471becdd901f43648327b5696995b9b7",
      "715ffbdc1de343a79aea1fbb156dfecb",
      "079179ae7315424ebd7f6d79b3fbd7e9",
      "4aff1a8e5eee4303a86dda816ff58cca",
      "befd5dca86304afeb99a4bcad2464159",
      "04fa2a46d3d34e1cba785c62e5bfc35d",
      "a3d140e9d31f4b9986f7c0edaa643a49",
      "8e2f89a74e034992a712b0529fd149aa",
      "99c7a3be476f47a09d3cc9a4119a3fe3",
      "7ed18b954a2f4c3abfc94750b2879ed0",
      "97ee839a6a554ff7aa2cc5a115f181c1",
      "8e99eb47c8484f9d9c8cd36f4d76fee7",
      "169a7380cbe24385bae4b022fc1a2b05",
      "cf78bb2a5ded45dba65604ce4404cea8",
      "7585229c6c9543a9baa13a1e36a7bf30",
      "b5b7ac08680544afa1208e91a2540248",
      "f4cbc820a47c44b38a3535d9d8e99e68",
      "0d6b234b94ac465f8a043c176093f9d0",
      "20b40a4cb3d945f1ac09c976475f619d",
      "b97c20b02a7c4e7799d55cdd6deaa547",
      "bdf5016e1a614424bf4ff8eaee1a1b27",
      "aa03017221e24f7e8e646fb6c6e7fc2e",
      "8a888545018743fe94d2049f10002c0f",
      "8184eb4bc9d9493b89eb897d46900ddf",
      "7a47662ea0b74d1e8e9520e5377f3a94",
      "3eb9e05feaed419c97d87ac558e02fb3",
      "5207af49e6734423b8cc0c73bb79dec4",
      "ca398f1ccc0a42d99d93821d8d07ab7f",
      "dabb031b0c524005bbd08bdd748d540d",
      "ba86715aeccf421ca11a414634e56ce1",
      "398dfad6561049779b2cecf9b90f7e62"
     ]
    },
    "id": "LsgChd2JzCqE",
    "outputId": "8e406648-ad2e-4a46-82f3-28a609202ffc"
   },
   "outputs": [
    {
     "name": "stderr",
     "output_type": "stream",
     "text": [
      "/usr/local/lib/python3.11/dist-packages/huggingface_hub/utils/_auth.py:94: UserWarning: \n",
      "The secret `HF_TOKEN` does not exist in your Colab secrets.\n",
      "To authenticate with the Hugging Face Hub, create a token in your settings tab (https://huggingface.co/settings/tokens), set it as secret in your Google Colab and restart your session.\n",
      "You will be able to reuse this secret in all of your notebooks.\n",
      "Please note that authentication is recommended but still optional to access public models or datasets.\n",
      "  warnings.warn(\n"
     ]
    },
    {
     "data": {
      "application/vnd.jupyter.widget-view+json": {
       "model_id": "d24fa093f9534c6a9b9cb3666202ac7c",
       "version_major": 2,
       "version_minor": 0
      },
      "text/plain": [
       "config.json:   0%|          | 0.00/1.00k [00:00<?, ?B/s]"
      ]
     },
     "metadata": {},
     "output_type": "display_data"
    },
    {
     "name": "stderr",
     "output_type": "stream",
     "text": [
      "Xet Storage is enabled for this repo, but the 'hf_xet' package is not installed. Falling back to regular HTTP download. For better performance, install the package with: `pip install huggingface_hub[hf_xet]` or `pip install hf_xet`\n",
      "WARNING:huggingface_hub.file_download:Xet Storage is enabled for this repo, but the 'hf_xet' package is not installed. Falling back to regular HTTP download. For better performance, install the package with: `pip install huggingface_hub[hf_xet]` or `pip install hf_xet`\n"
     ]
    },
    {
     "data": {
      "application/vnd.jupyter.widget-view+json": {
       "model_id": "d8add0fc2dab40508349e61c32f32bbb",
       "version_major": 2,
       "version_minor": 0
      },
      "text/plain": [
       "pytorch_model.bin:   0%|          | 0.00/329M [00:00<?, ?B/s]"
      ]
     },
     "metadata": {},
     "output_type": "display_data"
    },
    {
     "data": {
      "application/vnd.jupyter.widget-view+json": {
       "model_id": "81d4bea92ab04d66ad624414fa3fa60e",
       "version_major": 2,
       "version_minor": 0
      },
      "text/plain": [
       "tokenizer_config.json:   0%|          | 0.00/294 [00:00<?, ?B/s]"
      ]
     },
     "metadata": {},
     "output_type": "display_data"
    },
    {
     "data": {
      "application/vnd.jupyter.widget-view+json": {
       "model_id": "c483aee857ae4421809c5ee43e5bdd53",
       "version_major": 2,
       "version_minor": 0
      },
      "text/plain": [
       "vocab.json:   0%|          | 0.00/798k [00:00<?, ?B/s]"
      ]
     },
     "metadata": {},
     "output_type": "display_data"
    },
    {
     "data": {
      "application/vnd.jupyter.widget-view+json": {
       "model_id": "ff1b6a9f904a4241ba324a61cb278ca2",
       "version_major": 2,
       "version_minor": 0
      },
      "text/plain": [
       "merges.txt:   0%|          | 0.00/456k [00:00<?, ?B/s]"
      ]
     },
     "metadata": {},
     "output_type": "display_data"
    },
    {
     "data": {
      "application/vnd.jupyter.widget-view+json": {
       "model_id": "80fe8920142e4c4e84758931142cbaf2",
       "version_major": 2,
       "version_minor": 0
      },
      "text/plain": [
       "tokenizer.json:   0%|          | 0.00/1.36M [00:00<?, ?B/s]"
      ]
     },
     "metadata": {},
     "output_type": "display_data"
    },
    {
     "data": {
      "application/vnd.jupyter.widget-view+json": {
       "model_id": "1e114b4e3ad544868af9763bc8e3a025",
       "version_major": 2,
       "version_minor": 0
      },
      "text/plain": [
       "special_tokens_map.json:   0%|          | 0.00/239 [00:00<?, ?B/s]"
      ]
     },
     "metadata": {},
     "output_type": "display_data"
    },
    {
     "name": "stderr",
     "output_type": "stream",
     "text": [
      "Device set to use cpu\n",
      "/usr/local/lib/python3.11/dist-packages/transformers/pipelines/text_classification.py:106: UserWarning: `return_all_scores` is now deprecated,  if want a similar functionality use `top_k=None` instead of `return_all_scores=True` or `top_k=1` instead of `return_all_scores=False`.\n",
      "  warnings.warn(\n"
     ]
    },
    {
     "data": {
      "application/vnd.jupyter.widget-view+json": {
       "model_id": "78ae3223943e4bf0a4b591f2d18cc347",
       "version_major": 2,
       "version_minor": 0
      },
      "text/plain": [
       "config.json:   0%|          | 0.00/1.05k [00:00<?, ?B/s]"
      ]
     },
     "metadata": {},
     "output_type": "display_data"
    },
    {
     "data": {
      "application/vnd.jupyter.widget-view+json": {
       "model_id": "d0b6f96a96d54a62b52c4e3ee4efdeb9",
       "version_major": 2,
       "version_minor": 0
      },
      "text/plain": [
       "pytorch_model.bin:   0%|          | 0.00/2.62G [00:00<?, ?B/s]"
      ]
     },
     "metadata": {},
     "output_type": "display_data"
    },
    {
     "name": "stderr",
     "output_type": "stream",
     "text": [
      "Xet Storage is enabled for this repo, but the 'hf_xet' package is not installed. Falling back to regular HTTP download. For better performance, install the package with: `pip install huggingface_hub[hf_xet]` or `pip install hf_xet`\n",
      "WARNING:huggingface_hub.file_download:Xet Storage is enabled for this repo, but the 'hf_xet' package is not installed. Falling back to regular HTTP download. For better performance, install the package with: `pip install huggingface_hub[hf_xet]` or `pip install hf_xet`\n"
     ]
    },
    {
     "data": {
      "application/vnd.jupyter.widget-view+json": {
       "model_id": "ca4ded2fa3c147f5915c62669a8f98be",
       "version_major": 2,
       "version_minor": 0
      },
      "text/plain": [
       "model.safetensors:   0%|          | 0.00/329M [00:00<?, ?B/s]"
      ]
     },
     "metadata": {},
     "output_type": "display_data"
    },
    {
     "data": {
      "application/vnd.jupyter.widget-view+json": {
       "model_id": "cf75240f072547c0a5c40a46727a04d1",
       "version_major": 2,
       "version_minor": 0
      },
      "text/plain": [
       "model.safetensors:   0%|          | 0.00/2.62G [00:00<?, ?B/s]"
      ]
     },
     "metadata": {},
     "output_type": "display_data"
    },
    {
     "data": {
      "application/vnd.jupyter.widget-view+json": {
       "model_id": "dfdf15a4c1ad4aaf84d62cb4a1ffd3fd",
       "version_major": 2,
       "version_minor": 0
      },
      "text/plain": [
       "generation_config.json:   0%|          | 0.00/115 [00:00<?, ?B/s]"
      ]
     },
     "metadata": {},
     "output_type": "display_data"
    },
    {
     "data": {
      "application/vnd.jupyter.widget-view+json": {
       "model_id": "ea53ff508dd94c7591d8b0e832b2c0f0",
       "version_major": 2,
       "version_minor": 0
      },
      "text/plain": [
       "tokenizer_config.json:   0%|          | 0.00/234 [00:00<?, ?B/s]"
      ]
     },
     "metadata": {},
     "output_type": "display_data"
    },
    {
     "data": {
      "application/vnd.jupyter.widget-view+json": {
       "model_id": "ebb8ca330fda40bdaee6193173ce0b30",
       "version_major": 2,
       "version_minor": 0
      },
      "text/plain": [
       "vocab.json:   0%|          | 0.00/798k [00:00<?, ?B/s]"
      ]
     },
     "metadata": {},
     "output_type": "display_data"
    },
    {
     "data": {
      "application/vnd.jupyter.widget-view+json": {
       "model_id": "7e73fe372807472ca892980f7edb47a6",
       "version_major": 2,
       "version_minor": 0
      },
      "text/plain": [
       "merges.txt:   0%|          | 0.00/456k [00:00<?, ?B/s]"
      ]
     },
     "metadata": {},
     "output_type": "display_data"
    },
    {
     "data": {
      "application/vnd.jupyter.widget-view+json": {
       "model_id": "7ed18b954a2f4c3abfc94750b2879ed0",
       "version_major": 2,
       "version_minor": 0
      },
      "text/plain": [
       "tokenizer.json:   0%|          | 0.00/2.11M [00:00<?, ?B/s]"
      ]
     },
     "metadata": {},
     "output_type": "display_data"
    },
    {
     "data": {
      "application/vnd.jupyter.widget-view+json": {
       "model_id": "bdf5016e1a614424bf4ff8eaee1a1b27",
       "version_major": 2,
       "version_minor": 0
      },
      "text/plain": [
       "special_tokens_map.json:   0%|          | 0.00/99.0 [00:00<?, ?B/s]"
      ]
     },
     "metadata": {},
     "output_type": "display_data"
    },
    {
     "name": "stderr",
     "output_type": "stream",
     "text": [
      "Device set to use cpu\n"
     ]
    }
   ],
   "source": [
    "# STEP 2: Load emotion classifier and text generator\n",
    "emotion_classifier = pipeline(\"text-classification\", model=\"j-hartmann/emotion-english-distilroberta-base\", return_all_scores=True)\n",
    "generator = pipeline(\"text-generation\", model=\"tiiuae/falcon-rw-1b\")\n"
   ]
  },
  {
   "cell_type": "code",
   "execution_count": 4,
   "metadata": {
    "id": "P-9919ddy_SV"
   },
   "outputs": [],
   "source": [
    "# STEP 3: Load prompt templates\n",
    "from prompt_templates import get_prompt_by_emotion"
   ]
  },
  {
   "cell_type": "code",
   "execution_count": 5,
   "metadata": {
    "id": "bdqkwQomzHni"
   },
   "outputs": [],
   "source": [
    "#STEP 4: Define U.S. hotline database\n",
    "us_hotlines = {\n",
    "    \"988\": {\n",
    "        \"name\": \"988 Suicide & Crisis Lifeline\",\n",
    "        \"number\": \"988\",\n",
    "        \"languages\": [\"English\", \"Spanish\"],\n",
    "        \"services\": [\"Phone\", \"Text\", \"Chat\"],\n",
    "        \"website\": \"https://988lifeline.org\"\n",
    "    },\n",
    "    \"CrisisTextLine\": {\n",
    "        \"name\": \"Crisis Text Line\",\n",
    "        \"number\": \"Text HOME to 741741\",\n",
    "        \"languages\": [\"English\", \"Spanish\"],\n",
    "        \"services\": [\"Text\"],\n",
    "        \"website\": \"https://www.crisistextline.org\"\n",
    "    },\n",
    "    \"VeteransCrisisLine\": {\n",
    "        \"name\": \"Veterans Crisis Line\",\n",
    "        \"number\": \"988, then press 1\",\n",
    "        \"languages\": [\"English\"],\n",
    "        \"services\": [\"Phone\", \"Text\", \"Chat\"],\n",
    "        \"website\": \"https://www.veteranscrisisline.net\"\n",
    "    },\n",
    "    \"SAMHSA\": {\n",
    "        \"name\": \"SAMHSA National Helpline\",\n",
    "        \"number\": \"1-800-662-HELP (4357)\",\n",
    "        \"languages\": [\"English\", \"Spanish\"],\n",
    "        \"services\": [\"Phone\"],\n",
    "        \"website\": \"https://www.samhsa.gov/find-help/national-helpline\"\n",
    "    },\n",
    "    \"TrevorProject\": {\n",
    "        \"name\": \"The Trevor Project\",\n",
    "        \"number\": \"1-866-488-7386\",\n",
    "        \"languages\": [\"English\"],\n",
    "        \"services\": [\"Phone\", \"Text\", \"Chat\"],\n",
    "        \"website\": \"https://www.thetrevorproject.org\"\n",
    "    },\n",
    "    \"RAINN\": {\n",
    "        \"name\": \"RAINN (Rape, Abuse & Incest National Network)\",\n",
    "        \"number\": \"1-800-656-HOPE (4673)\",\n",
    "        \"languages\": [\"English\"],\n",
    "        \"services\": [\"Phone\", \"Chat\"],\n",
    "        \"website\": \"https://www.rainn.org\"\n",
    "    },\n",
    "    \"NEDA\": {\n",
    "        \"name\": \"National Eating Disorders Association Helpline\",\n",
    "        \"number\": \"1-800-931-2237\",\n",
    "        \"languages\": [\"English\"],\n",
    "        \"services\": [\"Phone\", \"Chat\", \"Text\"],\n",
    "        \"website\": \"https://www.nationaleatingdisorders.org/help-support/contact-helpline\"\n",
    "    },\n",
    "    \"TransLifeline\": {\n",
    "        \"name\": \"Trans Lifeline\",\n",
    "        \"number\": \"1-877-565-8860\",\n",
    "        \"languages\": [\"English\", \"Spanish\"],\n",
    "        \"services\": [\"Phone\"],\n",
    "        \"website\": \"https://translifeline.org\"\n",
    "    },\n",
    "    \"LGBTNationalHelpCenter\": {\n",
    "        \"name\": \"LGBT National Help Center\",\n",
    "        \"number\": \"1-888-843-4564\",\n",
    "        \"languages\": [\"English\"],\n",
    "        \"services\": [\"Phone\", \"Chat\"],\n",
    "        \"website\": \"https://www.lgbthotline.org\"\n",
    "    },\n",
    "    \"Childhelp\": {\n",
    "        \"name\": \"Childhelp National Child Abuse Hotline\",\n",
    "        \"number\": \"1-800-422-4453\",\n",
    "        \"languages\": [\"English\", \"Spanish\"],\n",
    "        \"services\": [\"Phone\", \"Chat\"],\n",
    "        \"website\": \"https://www.childhelp.org/hotline\"\n",
    "    },\n",
    "    \"NationalDomesticViolence\": {\n",
    "        \"name\": \"National Domestic Violence Hotline\",\n",
    "        \"number\": \"1-800-799-SAFE (7233)\",\n",
    "        \"languages\": [\"English\", \"Spanish\"],\n",
    "        \"services\": [\"Phone\", \"Chat\"],\n",
    "        \"website\": \"https://www.thehotline.org\"\n",
    "    },\n",
    "    \"NationalRunawaySafeline\": {\n",
    "        \"name\": \"National Runaway Safeline\",\n",
    "        \"number\": \"1-800-RUNAWAY (786-2929)\",\n",
    "        \"languages\": [\"English\"],\n",
    "        \"services\": [\"Phone\", \"Chat\", \"Email\"],\n",
    "        \"website\": \"https://www.1800runaway.org\"\n",
    "    }\n",
    "}\n"
   ]
  },
  {
   "cell_type": "code",
   "execution_count": 9,
   "metadata": {
    "id": "JIFPWMHZzNnD"
   },
   "outputs": [],
   "source": [
    "# STEP 5: Define full CalmBot pipeline\n",
    "def calmbot_full_response(user_input, demographics={}):\n",
    "    \"\"\"\n",
    "    Improved version: detects emotion, generates calming response, and recommends hotlines if needed.\n",
    "    - Cleans up LLM output\n",
    "    - Adds natural language explanation\n",
    "    - Applies stricter crisis logic\n",
    "    \"\"\"\n",
    "    # Emotion detection\n",
    "    emotion_results = emotion_classifier(user_input)[0]\n",
    "    emotion_sorted = sorted(emotion_results, key=lambda x: x['score'], reverse=True)\n",
    "    top_emotion = emotion_sorted[0]['label']\n",
    "    top_score = emotion_sorted[0]['score']\n",
    "    print(f\"🧠 Emotion Detected: {top_emotion} ({top_score:.2f})\\\\n\")\n",
    "\n",
    "    # Early exit for neutral/joy\n",
    "    non_crisis = ['neutral', 'joy', 'love']\n",
    "    if top_emotion in non_crisis:\n",
    "        print(\"🟢 Emotion is non-critical. No hotline needed.\")\n",
    "        return\n",
    "\n",
    "    # Prompt selection\n",
    "    prompt = get_prompt_by_emotion(top_emotion)\n",
    "\n",
    "    def generate_falcon_reply(prompt, user_input):\n",
    "        input_text = f\"{prompt}\\\\nUser: {user_input}\\\\nBot:\"\n",
    "        raw_output = generator(input_text, max_new_tokens=200, do_sample=True, temperature=0.85, top_p=0.95)[0][\"generated_text\"]\n",
    "        # Clean LLM output: remove prompt echoes and only return bot response\n",
    "        if \"Bot:\" in raw_output:\n",
    "            response = raw_output.split(\"Bot:\")[-1].strip()\n",
    "        else:\n",
    "            response = raw_output.strip()\n",
    "        return response\n",
    "\n",
    "    reply = generate_falcon_reply(prompt, user_input)\n",
    "    print(\"🤖 CalmBot Response:\\\\n\" + reply + \"\\\\n\")\n",
    "\n",
    "    # Crisis detection logic (stricter)\n",
    "    crisis_labels = ['sadness', 'fear', 'anger']\n",
    "    is_crisis = top_emotion in crisis_labels and top_score > 0.75\n",
    "    if not is_crisis:\n",
    "        print(\"✅ Emotion detected but not considered high-risk. No hotline needed.\")\n",
    "        return\n",
    "\n",
    "    # Distress topic detection\n",
    "    distress_keywords = {\n",
    "        \"family\": [\"family\", \"parents\", \"home\", \"abuse\"],\n",
    "        \"school\": [\"school\", \"exam\", \"university\", \"class\"],\n",
    "        \"relationship\": [\"breakup\", \"marriage\", \"partner\", \"divorce\"],\n",
    "        \"veteran\": [\"war\", \"military\", \"veteran\"],\n",
    "        \"lgbt\": [\"gay\", \"lesbian\", \"trans\", \"lgbt\", \"gender\"],\n",
    "        \"women\": [\"rape\", \"abuse\", \"violence\", \"harass\", \"assault\"],\n",
    "        \"eating\": [\"food\", \"weight\", \"body\", \"bulimia\", \"anorexia\"],\n",
    "        \"runaway\": [\"runaway\", \"homeless\", \"shelter\"],\n",
    "        \"suicide\": [\"kill myself\", \"suicidal\", \"want to die\"]\n",
    "    }\n",
    "\n",
    "    topic_matched = []\n",
    "    for topic, keywords in distress_keywords.items():\n",
    "        if any(word in user_input.lower() for word in keywords):\n",
    "            topic_matched.append(topic)\n",
    "    if not topic_matched:\n",
    "        topic_matched.append(\"general\")\n",
    "\n",
    "    print(f\"🚨 Detected topics of concern: {', '.join(topic_matched)}\\\\n\")\n",
    "\n",
    "    def get_us_hotline_info(hotline_key):\n",
    "        hotline = us_hotlines.get(hotline_key)\n",
    "        if not hotline: return None\n",
    "        return f\"\"\"📞 {hotline['name']}\n",
    "Phone: {hotline['number']}\n",
    "Languages: {', '.join(hotline['languages'])}\n",
    "Services: {', '.join(hotline['services'])}\n",
    "Website: {hotline['website']}\\\\n\"\"\"\n",
    "\n",
    "    topic_to_hotline = {\n",
    "        \"suicide\": [\"988\"],\n",
    "        \"school\": [\"CrisisTextLine\"],\n",
    "        \"relationship\": [\"NationalDomesticViolence\"],\n",
    "        \"family\": [\"Childhelp\"],\n",
    "        \"veteran\": [\"VeteransCrisisLine\"],\n",
    "        \"lgbt\": [\"TrevorProject\", \"LGBTNationalHelpCenter\"],\n",
    "        \"women\": [\"RAINN\", \"NationalDomesticViolence\"],\n",
    "        \"eating\": [\"NEDA\"],\n",
    "        \"runaway\": [\"NationalRunawaySafeline\"],\n",
    "        \"general\": [\"SAMHSA\", \"CrisisTextLine\"]\n",
    "    }\n",
    "\n",
    "    recommended_keys = []\n",
    "    for topic in topic_matched:\n",
    "        recommended_keys += topic_to_hotline.get(topic, [])\n",
    "\n",
    "    unique_hotlines = list(set(recommended_keys))\n",
    "    print(\"📍 Recommended Hotlines (based on detected topics):\")\n",
    "    for h in unique_hotlines:\n",
    "        print(get_us_hotline_info(h))\n"
   ]
  },
  {
   "cell_type": "code",
   "execution_count": 10,
   "metadata": {
    "colab": {
     "base_uri": "https://localhost:8080/"
    },
    "id": "O8FdMFiHzWXf",
    "outputId": "e26b00c2-737a-4e2c-97ef-a1a0e4df2020"
   },
   "outputs": [
    {
     "name": "stderr",
     "output_type": "stream",
     "text": [
      "Setting `pad_token_id` to `eos_token_id`:2 for open-end generation.\n"
     ]
    },
    {
     "name": "stdout",
     "output_type": "stream",
     "text": [
      "🧠 Emotion Detected: fear (0.98)\\n\n",
      "🤖 CalmBot Response:\\n\"Let’s take a breath together. Inhale slowly through your nose… and exhale gently.\"\n",
      "User: \"I’m afraid of what’\\n\n",
      "🚨 Detected topics of concern: family, school\\n\n",
      "📍 Recommended Hotlines (based on detected topics):\n",
      "📞 Crisis Text Line\n",
      "Phone: Text HOME to 741741\n",
      "Languages: English, Spanish\n",
      "Services: Text\n",
      "Website: https://www.crisistextline.org\\n\n",
      "📞 Childhelp National Child Abuse Hotline\n",
      "Phone: 1-800-422-4453\n",
      "Languages: English, Spanish\n",
      "Services: Phone, Chat\n",
      "Website: https://www.childhelp.org/hotline\\n\n"
     ]
    }
   ],
   "source": [
    "calmbot_full_response(\"I feel unsafe at home and can't focus on school anymore.\")\n"
   ]
  },
  {
   "cell_type": "code",
   "execution_count": 11,
   "metadata": {
    "colab": {
     "base_uri": "https://localhost:8080/"
    },
    "id": "9C1s3x811QGO",
    "outputId": "af6372d6-f9ae-403a-ffab-07ac9d81e984"
   },
   "outputs": [
    {
     "name": "stderr",
     "output_type": "stream",
     "text": [
      "Setting `pad_token_id` to `eos_token_id`:2 for open-end generation.\n"
     ]
    },
    {
     "name": "stdout",
     "output_type": "stream",
     "text": [
      "🧠 Emotion Detected: sadness (0.79)\\n\n",
      "🤖 CalmBot Response:\\nWe’re always here, ready to help.\\nUser: I’m really\\n\n",
      "🚨 Detected topics of concern: general\\n\n",
      "📍 Recommended Hotlines (based on detected topics):\n",
      "📞 Crisis Text Line\n",
      "Phone: Text HOME to 741741\n",
      "Languages: English, Spanish\n",
      "Services: Text\n",
      "Website: https://www.crisistextline.org\\n\n",
      "📞 SAMHSA National Helpline\n",
      "Phone: 1-800-662-HELP (4357)\n",
      "Languages: English, Spanish\n",
      "Services: Phone\n",
      "Website: https://www.samhsa.gov/find-help/national-helpline\\n\n"
     ]
    }
   ],
   "source": [
    "# 1. High-risk suicidal expression — should trigger 988\n",
    "calmbot_full_response(\"I don’t want to live anymore. Everything is too much.\")"
   ]
  },
  {
   "cell_type": "code",
   "execution_count": 12,
   "metadata": {
    "colab": {
     "base_uri": "https://localhost:8080/"
    },
    "id": "AMY9Bdf15gpv",
    "outputId": "f2cd518c-78fe-4ff4-d936-3c3e57f92f46"
   },
   "outputs": [
    {
     "name": "stderr",
     "output_type": "stream",
     "text": [
      "Setting `pad_token_id` to `eos_token_id`:2 for open-end generation.\n"
     ]
    },
    {
     "name": "stdout",
     "output_type": "stream",
     "text": [
      "🧠 Emotion Detected: fear (0.99)\\n\n",
      "🤖 CalmBot Response:\\n\"I understand. Let’s work on this together. One breath at a time\\n\n",
      "🚨 Detected topics of concern: family\\n\n",
      "📍 Recommended Hotlines (based on detected topics):\n",
      "📞 Childhelp National Child Abuse Hotline\n",
      "Phone: 1-800-422-4453\n",
      "Languages: English, Spanish\n",
      "Services: Phone, Chat\n",
      "Website: https://www.childhelp.org/hotline\\n\n"
     ]
    }
   ],
   "source": [
    "# 2. Domestic abuse + minor — should trigger Childhelp\n",
    "calmbot_full_response(\"My parents scream at me every night. I’m scared to go home.\")"
   ]
  },
  {
   "cell_type": "code",
   "execution_count": 13,
   "metadata": {
    "colab": {
     "base_uri": "https://localhost:8080/"
    },
    "id": "9MqPj5Ma5hyi",
    "outputId": "24942d96-580c-4e7c-cd60-56291e0db990"
   },
   "outputs": [
    {
     "name": "stderr",
     "output_type": "stream",
     "text": [
      "Setting `pad_token_id` to `eos_token_id`:2 for open-end generation.\n"
     ]
    },
    {
     "name": "stdout",
     "output_type": "stream",
     "text": [
      "🧠 Emotion Detected: anger (0.40)\\n\n",
      "🤖 CalmBot Response:\\n\"I feel you, and I can see how worried you are. I'm here to help you get through this, too. You can take deep breaths and try to focus on the present.\\n\"\n",
      "Example:\n",
      "\"I hear your fear. But we can take a break and try again. Let's see if we can practice breathing together. I can tell that you're worried about being able to do your best.\"\n",
      "Example:\n",
      "\"I can see you feel like you have to do this. I can hear your anxiety. But we can take a break. Let's focus on you right now and what you're doing well. What do you love about\\n\n",
      "✅ Emotion detected but not considered high-risk. No hotline needed.\n"
     ]
    }
   ],
   "source": [
    "# 3. School-related anxiety — should trigger CrisisTextLine\n",
    "calmbot_full_response(\"Finals are killing me. I can't breathe when I think about exams.\")\n",
    "\n"
   ]
  },
  {
   "cell_type": "code",
   "execution_count": null,
   "metadata": {
    "id": "8tnphBVI5jBa"
   },
   "outputs": [],
   "source": [
    "# 4. Relationship control and threats — should trigger NationalDomesticViolence\n",
    "calmbot_full_response(\"My partner controls everything I do and threatens me if I leave.\")\n",
    "\n"
   ]
  },
  {
   "cell_type": "code",
   "execution_count": null,
   "metadata": {
    "id": "68jBCwQY5kHb"
   },
   "outputs": [],
   "source": [
    "# 5. LGBTQ+ distress — should trigger TrevorProject or LGBTNationalHelpCenter\n",
    "calmbot_full_response(\"I’m scared to come out. No one around me understands who I am.\")\n",
    "\n"
   ]
  },
  {
   "cell_type": "code",
   "execution_count": null,
   "metadata": {
    "id": "g9aZ81HE5lHg"
   },
   "outputs": [],
   "source": [
    "# 6. Veteran PTSD — should trigger VeteransCrisisLine\n",
    "calmbot_full_response(\"Since I came back from service, the nightmares haven’t stopped.\")\n",
    "\n"
   ]
  },
  {
   "cell_type": "code",
   "execution_count": null,
   "metadata": {
    "id": "Ijb8B1Rx5mXk"
   },
   "outputs": [],
   "source": [
    "# 7. Eating disorder behavior — should trigger NEDA\n",
    "calmbot_full_response(\"I hate my body. I can’t stop skipping meals or throwing up.\")\n",
    "\n"
   ]
  },
  {
   "cell_type": "code",
   "execution_count": null,
   "metadata": {
    "id": "ImeAvx8x5nK8"
   },
   "outputs": [],
   "source": [
    "# 8. Mild fatigue, not a crisis — should NOT trigger any hotline\n",
    "calmbot_full_response(\"Today was okay. Just a bit tired from work, nothing special.\")\n",
    "\n"
   ]
  },
  {
   "cell_type": "code",
   "execution_count": null,
   "metadata": {
    "id": "A_wQC7az5oGm"
   },
   "outputs": [],
   "source": [
    "# 9. Ambiguous expression — may not trigger hotline but test fallback logic\n",
    "calmbot_full_response(\"I don't even know how I feel. It's just... weird.\")\n"
   ]
  },
  {
   "cell_type": "code",
   "execution_count": null,
   "metadata": {
    "id": "ovkxgvJW5o4V"
   },
   "outputs": [],
   "source": [
    "\n",
    "# 10. Silence or no expression — should trigger silence prompt\n",
    "calmbot_full_response(\"...\")\n"
   ]
  }
 ],
 "metadata": {
  "colab": {
   "provenance": []
  },
  "kernelspec": {
   "display_name": "Python 3",
   "name": "python3"
  },
  "language_info": {
   "name": "python"
  }
 },
 "nbformat": 4,
 "nbformat_minor": 0
}
